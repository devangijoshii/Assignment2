{
 "cells": [
  {
   "cell_type": "code",
   "execution_count": 8,
   "metadata": {},
   "outputs": [
    {
     "name": "stdout",
     "output_type": "stream",
     "text": [
      "Employee Table:\n",
      "Employee ID  Name       Age   Salary (PM)\n",
      "161E90    Ramu      35   59000     \n",
      "171E22    Tejas     30   82100     \n",
      "171G55    Abhi      25   100000    \n",
      "152K46    Jaya      32   85000     \n",
      "\n",
      "Sorted Employee Table:\n",
      "Employee ID  Name       Age   Salary (PM)\n",
      "171G55    Abhi      25   100000    \n",
      "152K46    Jaya      32   85000     \n",
      "161E90    Ramu      35   59000     \n",
      "171E22    Tejas     30   82100     \n"
     ]
    }
   ],
   "source": [
    "class Employee:\n",
    "    def __init__(self, emp_id, name, age, salary):\n",
    "        self.emp_id = emp_id\n",
    "        self.name = name\n",
    "        self.age = age\n",
    "        self.salary = salary\n",
    "    \n",
    "    def __repr__(self):\n",
    "        return f\"{self.emp_id:<10}{self.name:<10}{self.age:<5}{self.salary:<10}\"\n",
    "\n",
    "def sort_employees(employees, sort_param):\n",
    "    if sort_param == 1:\n",
    "        return sorted(employees, key=lambda x: x.age)\n",
    "    elif sort_param == 2:\n",
    "        return sorted(employees, key=lambda x: x.name)\n",
    "    elif sort_param == 3:\n",
    "        return sorted(employees, key=lambda x: x.salary)\n",
    "    else:\n",
    "        print(\"Invalid sorting parameter.\")\n",
    "        return None\n",
    "\n",
    "def main():\n",
    "    employees = [\n",
    "        Employee(\"161E90\", \"Ramu\", 35, 59000),\n",
    "        Employee(\"171E22\", \"Tejas\", 30, 82100),\n",
    "        Employee(\"171G55\", \"Abhi\", 25, 100000),\n",
    "        Employee(\"152K46\", \"Jaya\", 32, 85000)\n",
    "    ]\n",
    "    \n",
    "    print(\"Employee Table:\")\n",
    "    print(\"{:<12} {:<10} {:<5} {:<10}\".format(\"Employee ID\", \"Name\", \"Age\", \"Salary (PM)\"))\n",
    "    for emp in employees:\n",
    "        print(emp)\n",
    "    \n",
    "    sort_param = int(input(\"Enter sorting parameter (1. Age, 2. Name, 3. Salary): \"))\n",
    "    \n",
    "    sorted_employees = sort_employees(employees, sort_param)\n",
    "    if sorted_employees:\n",
    "        print(\"\\nSorted Employee Table:\")\n",
    "        print(\"{:<12} {:<10} {:<5} {:<10}\".format(\"Employee ID\", \"Name\", \"Age\", \"Salary (PM)\"))\n",
    "        for emp in sorted_employees:\n",
    "            print(emp)\n",
    "\n",
    "if __name__ == \"__main__\":\n",
    "    main()\n"
   ]
  }
 ],
 "metadata": {
  "kernelspec": {
   "display_name": "Python 3",
   "language": "python",
   "name": "python3"
  },
  "language_info": {
   "codemirror_mode": {
    "name": "ipython",
    "version": 3
   },
   "file_extension": ".py",
   "mimetype": "text/x-python",
   "name": "python",
   "nbconvert_exporter": "python",
   "pygments_lexer": "ipython3",
   "version": "3.12.0"
  }
 },
 "nbformat": 4,
 "nbformat_minor": 2
}
